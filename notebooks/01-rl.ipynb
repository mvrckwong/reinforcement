{
 "cells": [
  {
   "cell_type": "markdown",
   "id": "aac6055c",
   "metadata": {},
   "source": [
    "# RL Training Examples\n",
    "\n",
    "Simple examples of training RL algorithms with Ray RLlib.\n",
    "\n",
    "**Note**: For comprehensive hyperparameter documentation, see `00-rl_guide.ipynb`\n"
   ]
  },
  {
   "cell_type": "markdown",
   "id": "969e6b8b",
   "metadata": {},
   "source": [
    "## PPO Example\n"
   ]
  },
  {
   "cell_type": "code",
   "execution_count": 2,
   "id": "610935ed",
   "metadata": {},
   "outputs": [
    {
     "name": "stderr",
     "output_type": "stream",
     "text": [
      "2025-10-19 23:17:31,437\tWARNING algorithm_config.py:5050 -- You are running PPO on the new API stack! This is the new default behavior for this algorithm. If you don't want to use the new API stack, set `config.api_stack(enable_rl_module_and_learner=False,enable_env_runner_and_connector_v2=False)`. For a detailed migration guide, see here: https://docs.ray.io/en/master/rllib/new-api-stack-migration-guide.html\n"
     ]
    },
    {
     "name": "stderr",
     "output_type": "stream",
     "text": [
      "c:\\Users\\Maverick\\Documents\\GitHub\\reinforcement\\.venv\\Lib\\site-packages\\ray\\rllib\\algorithms\\algorithm.py:520: RayDeprecationWarning: This API is deprecated and may be removed in future Ray releases. You could suppress this warning by setting env variable PYTHONWARNINGS=\"ignore::DeprecationWarning\"\n",
      "`UnifiedLogger` will be removed in Ray 2.7.\n",
      "  return UnifiedLogger(config, logdir, loggers=None)\n",
      "c:\\Users\\Maverick\\Documents\\GitHub\\reinforcement\\.venv\\Lib\\site-packages\\ray\\tune\\logger\\unified.py:53: RayDeprecationWarning: This API is deprecated and may be removed in future Ray releases. You could suppress this warning by setting env variable PYTHONWARNINGS=\"ignore::DeprecationWarning\"\n",
      "The `JsonLogger interface is deprecated in favor of the `ray.tune.json.JsonLoggerCallback` interface and will be removed in Ray 2.7.\n",
      "  self._loggers.append(cls(self.config, self.logdir, self.trial))\n",
      "c:\\Users\\Maverick\\Documents\\GitHub\\reinforcement\\.venv\\Lib\\site-packages\\ray\\tune\\logger\\unified.py:53: RayDeprecationWarning: This API is deprecated and may be removed in future Ray releases. You could suppress this warning by setting env variable PYTHONWARNINGS=\"ignore::DeprecationWarning\"\n",
      "The `CSVLogger interface is deprecated in favor of the `ray.tune.csv.CSVLoggerCallback` interface and will be removed in Ray 2.7.\n",
      "  self._loggers.append(cls(self.config, self.logdir, self.trial))\n",
      "c:\\Users\\Maverick\\Documents\\GitHub\\reinforcement\\.venv\\Lib\\site-packages\\ray\\tune\\logger\\unified.py:53: RayDeprecationWarning: This API is deprecated and may be removed in future Ray releases. You could suppress this warning by setting env variable PYTHONWARNINGS=\"ignore::DeprecationWarning\"\n",
      "The `TBXLogger interface is deprecated in favor of the `ray.tune.tensorboardx.TBXLoggerCallback` interface and will be removed in Ray 2.7.\n",
      "  self._loggers.append(cls(self.config, self.logdir, self.trial))\n"
     ]
    },
    {
     "name": "stdout",
     "output_type": "stream",
     "text": [
      "PPO - Reward: 20.06\n"
     ]
    }
   ],
   "source": [
    "from ray.rllib.algorithms.ppo import PPOConfig\n",
    "\n",
    "# Configure PPO\n",
    "config = (\n",
    "    PPOConfig()\n",
    "    .environment(\"CartPole-v1\")\n",
    "    .training(\n",
    "        gamma=0.99,\n",
    "        lr=5e-5,\n",
    "        train_batch_size=4000,\n",
    "    )\n",
    "    .env_runners(num_env_runners=4)\n",
    ")\n",
    "\n",
    "# Build and train\n",
    "algo = config.build_algo()\n",
    "result = algo.train()\n",
    "print(f\"PPO - Reward: {result['env_runners']['episode_return_mean']:.2f}\")"
   ]
  },
  {
   "cell_type": "markdown",
   "id": "6098c7ad",
   "metadata": {},
   "source": [
    "## IMPALA Example (Windows-compatible)"
   ]
  },
  {
   "cell_type": "code",
   "execution_count": 1,
   "id": "46584f01",
   "metadata": {},
   "outputs": [
    {
     "name": "stderr",
     "output_type": "stream",
     "text": [
      "2025-10-19 22:47:50,983\tWARNING algorithm_config.py:5050 -- You are running IMPALA on the new API stack! This is the new default behavior for this algorithm. If you don't want to use the new API stack, set `config.api_stack(enable_rl_module_and_learner=False,enable_env_runner_and_connector_v2=False)`. For a detailed migration guide, see here: https://docs.ray.io/en/master/rllib/new-api-stack-migration-guide.html\n",
      "c:\\Users\\Maverick\\Documents\\GitHub\\reinforcement\\.venv\\Lib\\site-packages\\ray\\rllib\\algorithms\\algorithm.py:520: RayDeprecationWarning: This API is deprecated and may be removed in future Ray releases. You could suppress this warning by setting env variable PYTHONWARNINGS=\"ignore::DeprecationWarning\"\n",
      "`UnifiedLogger` will be removed in Ray 2.7.\n",
      "  return UnifiedLogger(config, logdir, loggers=None)\n",
      "c:\\Users\\Maverick\\Documents\\GitHub\\reinforcement\\.venv\\Lib\\site-packages\\ray\\tune\\logger\\unified.py:53: RayDeprecationWarning: This API is deprecated and may be removed in future Ray releases. You could suppress this warning by setting env variable PYTHONWARNINGS=\"ignore::DeprecationWarning\"\n",
      "The `JsonLogger interface is deprecated in favor of the `ray.tune.json.JsonLoggerCallback` interface and will be removed in Ray 2.7.\n",
      "  self._loggers.append(cls(self.config, self.logdir, self.trial))\n",
      "c:\\Users\\Maverick\\Documents\\GitHub\\reinforcement\\.venv\\Lib\\site-packages\\ray\\tune\\logger\\unified.py:53: RayDeprecationWarning: This API is deprecated and may be removed in future Ray releases. You could suppress this warning by setting env variable PYTHONWARNINGS=\"ignore::DeprecationWarning\"\n",
      "The `CSVLogger interface is deprecated in favor of the `ray.tune.csv.CSVLoggerCallback` interface and will be removed in Ray 2.7.\n",
      "  self._loggers.append(cls(self.config, self.logdir, self.trial))\n",
      "c:\\Users\\Maverick\\Documents\\GitHub\\reinforcement\\.venv\\Lib\\site-packages\\ray\\tune\\logger\\unified.py:53: RayDeprecationWarning: This API is deprecated and may be removed in future Ray releases. You could suppress this warning by setting env variable PYTHONWARNINGS=\"ignore::DeprecationWarning\"\n",
      "The `TBXLogger interface is deprecated in favor of the `ray.tune.tensorboardx.TBXLoggerCallback` interface and will be removed in Ray 2.7.\n",
      "  self._loggers.append(cls(self.config, self.logdir, self.trial))\n",
      "2025-10-19 22:47:59,846\tINFO worker.py:2013 -- Started a local Ray instance.\n",
      "c:\\Users\\Maverick\\Documents\\GitHub\\reinforcement\\.venv\\Lib\\site-packages\\ray\\_private\\worker.py:2052: FutureWarning: Tip: In future versions of Ray, Ray will no longer override accelerator visible devices env var if num_gpus=0 or num_gpus=None (default). To enable this behavior and turn off this error message, set RAY_ACCEL_ENV_VAR_OVERRIDE_ON_ZERO=0\n",
      "  warnings.warn(\n",
      "\u001b[36m(SingleAgentEnvRunner pid=22804)\u001b[0m DeprecationWarning: `RLModule(config=[RLModuleConfig object])` has been deprecated. Use `RLModule(observation_space=.., action_space=.., inference_only=.., model_config=.., catalog_class=..)` instead. This will raise an error in the future!\n",
      "2025-10-19 22:49:08,220\tWARNING deprecation.py:50 -- DeprecationWarning: `RLModule(config=[RLModuleConfig object])` has been deprecated. Use `RLModule(observation_space=.., action_space=.., inference_only=.., model_config=.., catalog_class=..)` instead. This will raise an error in the future!\n",
      "2025-10-19 22:49:28,358\tINFO trainable.py:161 -- Trainable.setup took 96.322 seconds. If your trainable is slow to initialize, consider setting reuse_actors=True to reduce actor creation overheads.\n"
     ]
    },
    {
     "name": "stdout",
     "output_type": "stream",
     "text": [
      "Training IMPALA on CartPole-v1...\n"
     ]
    },
    {
     "name": "stderr",
     "output_type": "stream",
     "text": [
      "Training:  10%|█         | 1/10 [00:10<01:30, 10.08s/iter]"
     ]
    },
    {
     "name": "stdout",
     "output_type": "stream",
     "text": [
      "Iter  1 | Episodes:    504 | Reward:  29.76 | Length:  29.76\n"
     ]
    },
    {
     "name": "stderr",
     "output_type": "stream",
     "text": [
      "Training:  20%|██        | 2/10 [00:20<01:20, 10.09s/iter]"
     ]
    },
    {
     "name": "stdout",
     "output_type": "stream",
     "text": [
      "Iter  2 | Episodes:    370 | Reward:  36.36 | Length:  36.36\n"
     ]
    },
    {
     "name": "stderr",
     "output_type": "stream",
     "text": [
      "Training:  30%|███       | 3/10 [00:30<01:10, 10.09s/iter]"
     ]
    },
    {
     "name": "stdout",
     "output_type": "stream",
     "text": [
      "Iter  3 | Episodes:    350 | Reward:  43.68 | Length:  43.68\n"
     ]
    },
    {
     "name": "stderr",
     "output_type": "stream",
     "text": [
      "Training:  40%|████      | 4/10 [00:40<01:00, 10.09s/iter]"
     ]
    },
    {
     "name": "stdout",
     "output_type": "stream",
     "text": [
      "Iter  4 | Episodes:    350 | Reward:  40.00 | Length:  40.00\n"
     ]
    },
    {
     "name": "stderr",
     "output_type": "stream",
     "text": [
      "Training:  50%|█████     | 5/10 [00:50<00:50, 10.11s/iter]"
     ]
    },
    {
     "name": "stdout",
     "output_type": "stream",
     "text": [
      "Iter  5 | Episodes:    372 | Reward:  41.84 | Length:  41.84\n"
     ]
    },
    {
     "name": "stderr",
     "output_type": "stream",
     "text": [
      "Training:  60%|██████    | 6/10 [01:00<00:40, 10.12s/iter]"
     ]
    },
    {
     "name": "stdout",
     "output_type": "stream",
     "text": [
      "Iter  6 | Episodes:    310 | Reward:  41.36 | Length:  41.36\n"
     ]
    },
    {
     "name": "stderr",
     "output_type": "stream",
     "text": [
      "Training:  70%|███████   | 7/10 [01:10<00:30, 10.12s/iter]"
     ]
    },
    {
     "name": "stdout",
     "output_type": "stream",
     "text": [
      "Iter  7 | Episodes:    180 | Reward:  31.04 | Length:  31.04\n"
     ]
    },
    {
     "name": "stderr",
     "output_type": "stream",
     "text": [
      "Training:  80%|████████  | 8/10 [01:20<00:20, 10.11s/iter]"
     ]
    },
    {
     "name": "stdout",
     "output_type": "stream",
     "text": [
      "Iter  8 | Episodes:    284 | Reward:  51.64 | Length:  51.64\n"
     ]
    },
    {
     "name": "stderr",
     "output_type": "stream",
     "text": [
      "Training:  90%|█████████ | 9/10 [01:30<00:10, 10.11s/iter]"
     ]
    },
    {
     "name": "stdout",
     "output_type": "stream",
     "text": [
      "Iter  9 | Episodes:    318 | Reward:  67.52 | Length:  67.52\n"
     ]
    },
    {
     "name": "stderr",
     "output_type": "stream",
     "text": [
      "Training: 100%|██████████| 10/10 [01:41<00:00, 10.11s/iter]"
     ]
    },
    {
     "name": "stdout",
     "output_type": "stream",
     "text": [
      "Iter 10 | Episodes:    281 | Reward:  48.44 | Length:  48.44\n"
     ]
    },
    {
     "name": "stderr",
     "output_type": "stream",
     "text": [
      "\n"
     ]
    },
    {
     "name": "stderr",
     "output_type": "stream",
     "text": [
      "\u001b[36m(SingleAgentEnvRunner pid=8160)\u001b[0m DeprecationWarning: `RLModule(config=[RLModuleConfig object])` has been deprecated. Use `RLModule(observation_space=.., action_space=.., inference_only=.., model_config=.., catalog_class=..)` instead. This will raise an error in the future!\n"
     ]
    }
   ],
   "source": [
    "from ray.rllib.algorithms.impala import IMPALAConfig\n",
    "from tqdm import tqdm\n",
    "\n",
    "# Configure IMPALA (local mode for Windows compatibility)\n",
    "config = (\n",
    "    IMPALAConfig()\n",
    "    .environment(\"CartPole-v1\")\n",
    "    .learners(num_learners=0)  # Local mode (no distributed learners)\n",
    "    .env_runners(num_env_runners=4)\n",
    "    .training(\n",
    "        gamma=0.99,\n",
    "        lr=0.0005,\n",
    "        train_batch_size=512,\n",
    "    )\n",
    ")\n",
    "\n",
    "# Build and train for multiple iterations\n",
    "algo = config.build_algo()\n",
    "print(\"Training IMPALA on CartPole-v1...\")\n",
    "\n",
    "for i in tqdm(range(10), desc=\"Training\", unit=\"iter\"):\n",
    "    result = algo.train()\n",
    "    episodes = result['env_runners']['num_episodes']\n",
    "    reward = result['env_runners']['episode_return_mean']\n",
    "    length = result['env_runners']['episode_len_mean']\n",
    "    tqdm.write(f\"Iter {i+1:2d} | Episodes: {episodes:6.0f} | Reward: {reward:6.2f} | Length: {length:6.2f}\")"
   ]
  },
  {
   "cell_type": "code",
   "execution_count": 18,
   "id": "32dfb37d",
   "metadata": {},
   "outputs": [
    {
     "name": "stdout",
     "output_type": "stream",
     "text": [
      "✓ Model saved successfully to: TrainingResult(checkpoint=Checkpoint(filesystem=local, path=c:\\Users\\Maverick\\Documents\\GitHub\\reinforcement\\checkpoints\\impala_cartpole\\20251018_221334), metrics={'timers': {'training_iteration': 10.007739852955527, 'restore_env_runners': 2.6509628412545033e-05, 'training_step': 0.005670142667001269, 'sample': 0.0039115120421240055, 'learner_update_timer': 0.0013640342305409612, 'synch_weights': 0.004529510631270928}, 'env_runners': {'mean_num_episode_lists_received': 0.1516576123899905, 'num_episodes_lifetime': 4031.999999999998, 'episode_return_mean': 43.64, 'env_to_module_sum_episodes_length_in': 16.908273096856036, 'env_to_module_connector': {'timers': {'connectors': {'add_time_dim_to_batch_and_zero_pad': 1.0475611641219527e-05, 'numpy_to_tensor': 0.00014623494969214157, 'add_observations_from_episodes_to_batch': 2.7573970838038283e-05, 'add_states_from_episodes_to_batch': 5.1542618762668485e-06, 'batch_individual_items': 6.217203271734908e-05}}, 'connector_pipeline_timer': 0.00038479990620337787}, 'sample': 0.1277872721220466, 'num_agent_steps_sampled': {'default_agent': 12350.0}, 'weights_seq_no': 104.0, 'num_agent_steps_sampled_lifetime': {'default_agent': 131100.0}, 'episode_len_max': 101, 'episode_return_min': 14.0, 'num_episodes': 267.0, 'env_to_module_sum_episodes_length_out': 16.908273096856036, 'episode_duration_sec_mean': 0.09687886800016714, 'episode_len_min': 14, 'module_to_env_connector': {'timers': {'connectors': {'remove_single_ts_time_rank_from_batch': 4.437688339769598e-06, 'normalize_and_clip_actions': 7.94458178030529e-05, 'listify_data_for_vector_env': 9.5581967123245e-05, 'get_actions': 0.0006449910950967837, 'un_batch_to_individual_items': 5.231685675385573e-05, 'tensor_to_numpy': 0.0001818042337200033}}, 'connector_pipeline_timer': 0.0012710392689222244}, 'module_episode_return_mean': {'default_policy': 43.64}, 'num_module_steps_sampled_lifetime': {'default_policy': 131100.0}, 'episode_return_max': 101.0, 'env_reset_timer': 0.0005332000000635162, 'num_module_steps_sampled': {'default_policy': 12350.0}, 'num_env_steps_sampled_lifetime': 131100.0, 'rlmodule_inference_timer': 0.0004941160814352464, 'env_step_timer': 0.0001998737694457934, 'episode_len_mean': 43.64, 'agent_episode_return_mean': {'default_agent': 43.64}, 'num_env_steps_sampled': 12350.0, 'time_between_sampling': 0.02447184892839123, 'num_env_steps_sampled_lifetime_throughput': 2442.814205828358}, 'mean_num_learner_group_update_called': 0.015477932460045156, 'learner_group': {'mean_num_learner_results_received': 0.015477932460045156, 'actor_manager_num_outstanding_async_reqs': 0.0, 'learner_group_ts_dropped_lifetime': 0.0}, 'num_training_step_calls_since_last_synch_worker_weights': 20, 'num_training_step_calls_per_iteration': 1751, 'num_weight_broadcasts': 238, 'learners': {'__all_modules__': {'num_module_steps_trained': 11517, 'learner_connector': {'timers': {'connectors': {'add_states_from_episodes_to_batch': 1.1341204308989849e-05, 'batch_individual_items': 0.021172365141212096, 'numpy_to_tensor': 0.003042587297164211, 'add_one_ts_to_episodes_and_truncate': 0.006074362932440037, 'add_observations_from_episodes_to_batch': 0.0006362239375219016, 'add_time_dim_to_batch_and_zero_pad': 4.3192623129153016e-05, 'add_columns_from_episodes_to_train_batch': 0.021743691260822064}}, 'connector_pipeline_timer': 0.053173938466670345}, 'num_env_steps_trained': 11517, 'learner_thread_in_queue_wait_timer': 0.29192257712668807, 'learner_thread_update_timer': 0.94233826317261, 'num_module_steps_trained_lifetime': 57826, 'queue_size_learner_thread_queue': 2.7793696019968306, 'learner_thread_env_steps_dropped': 72181, 'learner_connector_sum_episodes_length_in': 550.0, 'learner_connector_sum_episodes_length_out': 577.4514577452185, 'num_trainable_parameters': 67843, 'num_env_steps_trained_lifetime': 57826, 'num_non_trainable_parameters': 0, 'num_env_steps_trained_lifetime_throughput': 609.6248571339295, 'num_module_steps_trained_throughput': 0.0, 'num_module_steps_trained_lifetime_throughput': 609.6242622526377}, 'default_policy': {'gradients_default_optimizer_global_norm': np.float32(25.602713), 'num_module_steps_trained_lifetime': 57826, 'weights_seq_no': 100.0, 'default_optimizer_learning_rate': 0.0005, 'num_module_steps_trained': 11517, 'num_trainable_parameters': 67843, 'mean_vf_loss': np.float32(24.077906), 'vf_loss': np.float32(13242.848), 'mean_pi_loss': np.float32(2.1710322), 'curr_entropy_coeff': 0.01, 'total_loss': np.float32(14.203731), 'module_train_batch_size_mean': 581.0425305815563, 'entropy': np.float32(0.62542874), 'diff_num_grad_updates_vs_sampler_policy': np.float32(2.0), 'pi_loss': np.float32(1194.0677), 'num_module_steps_trained_lifetime_throughput': 609.6489043566996}}, 'num_env_steps_sampled_lifetime': 131100.0, 'fault_tolerance': {'num_healthy_workers': 4, 'num_remote_worker_restarts': 0}, 'env_runner_group': {'actor_manager_num_outstanding_async_reqs': 4}, 'done': False, 'training_iteration': 10, 'trial_id': 'default', 'date': '2025-10-18_22-08-44', 'timestamp': 1760796524, 'time_this_iter_s': 10.00501036643982, 'time_total_s': 100.09751963615417, 'pid': 23204, 'hostname': 'MaverickVB', 'node_ip': '127.0.0.1', 'config': {'exploration_config': {}, 'extra_python_environs_for_driver': {}, 'extra_python_environs_for_worker': {}, 'placement_strategy': 'PACK', 'num_gpus': 1, '_fake_gpus': False, 'num_cpus_for_main_process': 1, 'eager_tracing': True, 'eager_max_retraces': 20, 'tf_session_args': {'intra_op_parallelism_threads': 2, 'inter_op_parallelism_threads': 2, 'gpu_options': {'allow_growth': True}, 'log_device_placement': False, 'device_count': {'CPU': 1}, 'allow_soft_placement': True}, 'local_tf_session_args': {'intra_op_parallelism_threads': 8, 'inter_op_parallelism_threads': 8}, 'torch_compile_learner': False, 'torch_compile_learner_what_to_compile': <TorchCompileWhatToCompile.FORWARD_TRAIN: 'forward_train'>, 'torch_compile_learner_dynamo_backend': 'inductor', 'torch_compile_learner_dynamo_mode': None, 'torch_compile_worker': False, 'torch_compile_worker_dynamo_backend': 'onnxrt', 'torch_compile_worker_dynamo_mode': None, 'torch_ddp_kwargs': {}, 'torch_skip_nan_gradients': False, 'env': 'CartPole-v1', 'env_config': {}, 'observation_space': None, 'action_space': None, 'clip_rewards': None, 'normalize_actions': True, 'clip_actions': False, '_is_atari': None, 'disable_env_checking': False, 'render_env': False, 'action_mask_key': 'action_mask', 'env_runner_cls': None, 'num_env_runners': 4, 'create_local_env_runner': True, 'num_envs_per_env_runner': 1, 'gym_env_vectorize_mode': 'SYNC', 'num_cpus_per_env_runner': 1, 'num_gpus_per_env_runner': 0, 'custom_resources_per_env_runner': {}, 'validate_env_runners_after_construction': True, 'episodes_to_numpy': True, 'max_requests_in_flight_per_env_runner': 1, 'sample_timeout_s': 60.0, '_env_to_module_connector': None, 'add_default_connectors_to_env_to_module_pipeline': True, '_module_to_env_connector': None, 'add_default_connectors_to_module_to_env_pipeline': True, 'merge_env_runner_states': 'training_only', 'broadcast_env_runner_states': True, 'episode_lookback_horizon': 1, 'rollout_fragment_length': 50, 'batch_mode': 'truncate_episodes', 'compress_observations': False, 'remote_worker_envs': False, 'remote_env_batch_wait_ms': 0, 'enable_tf1_exec_eagerly': False, 'sample_collector': <class 'ray.rllib.evaluation.collectors.simple_list_collector.SimpleListCollector'>, 'preprocessor_pref': 'deepmind', 'observation_filter': 'NoFilter', 'update_worker_filter_stats': True, 'use_worker_filter_stats': True, 'sampler_perf_stats_ema_coef': None, '_is_online': True, 'num_learners': 0, 'num_gpus_per_learner': 0, 'num_cpus_per_learner': 'auto', 'num_aggregator_actors_per_learner': 0, 'max_requests_in_flight_per_aggregator_actor': 3, 'local_gpu_idx': 0, 'max_requests_in_flight_per_learner': 3, 'gamma': 0.99, 'lr': 0.0005, 'grad_clip': 40.0, 'grad_clip_by': 'global_norm', '_train_batch_size_per_learner': None, 'train_batch_size': 512, 'num_epochs': 1, 'minibatch_size': None, 'shuffle_batch_per_epoch': False, 'model': {'fcnet_hiddens': [256, 256], 'fcnet_activation': 'tanh', 'fcnet_weights_initializer': None, 'fcnet_weights_initializer_config': None, 'fcnet_bias_initializer': None, 'fcnet_bias_initializer_config': None, 'conv_filters': None, 'conv_activation': 'relu', 'conv_kernel_initializer': None, 'conv_kernel_initializer_config': None, 'conv_bias_initializer': None, 'conv_bias_initializer_config': None, 'conv_transpose_kernel_initializer': None, 'conv_transpose_kernel_initializer_config': None, 'conv_transpose_bias_initializer': None, 'conv_transpose_bias_initializer_config': None, 'post_fcnet_hiddens': [], 'post_fcnet_activation': 'relu', 'post_fcnet_weights_initializer': None, 'post_fcnet_weights_initializer_config': None, 'post_fcnet_bias_initializer': None, 'post_fcnet_bias_initializer_config': None, 'free_log_std': False, 'log_std_clip_param': 20.0, 'no_final_linear': False, 'vf_share_layers': True, 'use_lstm': False, 'max_seq_len': 20, 'lstm_cell_size': 256, 'lstm_use_prev_action': False, 'lstm_use_prev_reward': False, 'lstm_weights_initializer': None, 'lstm_weights_initializer_config': None, 'lstm_bias_initializer': None, 'lstm_bias_initializer_config': None, '_time_major': False, 'use_attention': False, 'attention_num_transformer_units': 1, 'attention_dim': 64, 'attention_num_heads': 1, 'attention_head_dim': 32, 'attention_memory_inference': 50, 'attention_memory_training': 50, 'attention_position_wise_mlp_dim': 32, 'attention_init_gru_gate_bias': 2.0, 'attention_use_n_prev_actions': 0, 'attention_use_n_prev_rewards': 0, 'framestack': True, 'dim': 84, 'grayscale': False, 'zero_mean': True, 'custom_model': None, 'custom_model_config': {}, 'custom_action_dist': None, 'custom_preprocessor': None, 'encoder_latent_dim': None, 'always_check_shapes': False, 'lstm_use_prev_action_reward': -1, '_use_default_native_models': -1, '_disable_preprocessor_api': False, '_disable_action_flattening': False}, '_learner_connector': None, 'add_default_connectors_to_learner_pipeline': True, 'learner_config_dict': {}, 'optimizer': {}, '_learner_class': None, 'callbacks_on_algorithm_init': None, 'callbacks_on_env_runners_recreated': None, 'callbacks_on_offline_eval_runners_recreated': None, 'callbacks_on_checkpoint_loaded': None, 'callbacks_on_environment_created': None, 'callbacks_on_episode_created': None, 'callbacks_on_episode_start': None, 'callbacks_on_episode_step': None, 'callbacks_on_episode_end': None, 'callbacks_on_evaluate_start': None, 'callbacks_on_evaluate_end': None, 'callbacks_on_evaluate_offline_start': None, 'callbacks_on_evaluate_offline_end': None, 'callbacks_on_sample_end': None, 'callbacks_on_train_result': None, 'explore': True, 'enable_rl_module_and_learner': True, 'enable_env_runner_and_connector_v2': True, '_prior_exploration_config': {'type': 'StochasticSampling'}, 'count_steps_by': 'env_steps', 'policy_map_capacity': 100, 'policy_mapping_fn': <function AlgorithmConfig.DEFAULT_POLICY_MAPPING_FN at 0x0000027984418220>, 'policies_to_train': None, 'policy_states_are_swappable': False, 'observation_fn': None, 'offline_data_class': None, 'input_read_method': 'read_parquet', 'input_read_method_kwargs': {}, 'input_read_schema': {}, 'input_read_episodes': False, 'input_read_sample_batches': False, 'input_read_batch_size': None, 'input_filesystem': None, 'input_filesystem_kwargs': {}, 'input_compress_columns': ['obs', 'new_obs'], 'input_spaces_jsonable': True, 'materialize_data': False, 'materialize_mapped_data': True, 'map_batches_kwargs': {}, 'iter_batches_kwargs': {}, 'ignore_final_observation': False, 'prelearner_class': None, 'prelearner_buffer_class': None, 'prelearner_buffer_kwargs': {}, 'prelearner_module_synch_period': 10, 'dataset_num_iters_per_learner': None, 'input_config': {}, 'actions_in_input_normalized': False, 'postprocess_inputs': False, 'shuffle_buffer_size': 0, 'output': None, 'output_config': {}, 'output_compress_columns': ['obs', 'new_obs'], 'output_max_file_size': 67108864, 'output_max_rows_per_file': None, 'output_write_remaining_data': False, 'output_write_method': 'write_parquet', 'output_write_method_kwargs': {}, 'output_filesystem': None, 'output_filesystem_kwargs': {}, 'output_write_episodes': True, 'offline_sampling': False, 'evaluation_interval': None, 'evaluation_duration': 10, 'evaluation_duration_unit': 'episodes', 'evaluation_sample_timeout_s': 120.0, 'evaluation_auto_duration_min_env_steps_per_sample': 100, 'evaluation_auto_duration_max_env_steps_per_sample': 2000, 'evaluation_parallel_to_training': False, 'evaluation_force_reset_envs_before_iteration': True, 'evaluation_config': None, 'off_policy_estimation_methods': {}, 'ope_split_batch_by_episode': True, 'evaluation_num_env_runners': 0, 'in_evaluation': False, 'sync_filters_on_rollout_workers_timeout_s': 10.0, 'offline_evaluation_interval': None, 'num_offline_eval_runners': 0, 'offline_evaluation_type': None, 'offline_eval_runner_class': None, 'offline_loss_for_module_fn': None, 'offline_evaluation_duration': 1, 'offline_evaluation_parallel_to_training': False, 'offline_evaluation_timeout_s': 120.0, 'num_cpus_per_offline_eval_runner': 1, 'num_gpus_per_offline_eval_runner': 0, 'custom_resources_per_offline_eval_runner': {}, 'restart_failed_offline_eval_runners': True, 'ignore_offline_eval_runner_failures': False, 'max_num_offline_eval_runner_restarts': 1000, 'offline_eval_runner_restore_timeout_s': 1800.0, 'max_requests_in_flight_per_offline_eval_runner': 1, 'validate_offline_eval_runners_after_construction': True, 'offline_eval_runner_health_probe_timeout_s': 30.0, 'offline_eval_rl_module_inference_only': False, 'broadcast_offline_eval_runner_states': False, 'offline_eval_batch_size_per_runner': 256, 'dataset_num_iters_per_eval_runner': 1, 'keep_per_episode_custom_metrics': False, 'metrics_episode_collection_timeout_s': 60.0, 'metrics_num_episodes_for_smoothing': 100, 'min_time_s_per_iteration': 10, 'min_train_timesteps_per_iteration': 0, 'min_sample_timesteps_per_iteration': 0, 'log_gradients': False, 'export_native_model_files': False, 'checkpoint_trainable_policies_only': False, 'logger_creator': None, 'logger_config': None, 'log_level': 'WARN', 'log_sys_usage': True, 'fake_sampler': False, 'seed': None, 'restart_failed_env_runners': True, 'ignore_env_runner_failures': False, 'max_num_env_runner_restarts': 1000, 'delay_between_env_runner_restarts_s': 60.0, 'restart_failed_sub_environments': False, 'num_consecutive_env_runner_failures_tolerance': 100, 'env_runner_health_probe_timeout_s': 30.0, 'env_runner_restore_timeout_s': 1800.0, '_model_config': {}, '_rl_module_spec': None, 'algorithm_config_overrides_per_module': {}, '_per_module_overrides': {}, '_validate_config': True, '_use_msgpack_checkpoints': False, '_torch_grad_scaler_class': None, '_torch_lr_scheduler_classes': None, '_tf_policy_handles_more_than_one_loss': True, '_disable_preprocessor_api': False, '_disable_action_flattening': False, '_disable_initialize_loss_from_dummy_batch': False, '_dont_auto_sync_env_runner_states': True, 'env_task_fn': -1, 'enable_connectors': -1, 'simple_optimizer': False, 'policy_map_cache': -1, 'worker_cls': -1, 'synchronize_filters': -1, 'enable_async_evaluation': -1, 'custom_async_evaluation_function': -1, '_enable_rl_module_api': -1, 'auto_wrap_old_gym_envs': -1, 'always_attach_evaluation_results': -1, 'replay_sequence_length': None, '_disable_execution_plan_api': -1, 'vtrace': True, 'vtrace_clip_rho_threshold': 1.0, 'vtrace_clip_pg_rho_threshold': 1.0, 'learner_queue_size': 3, 'timeout_s_sampler_manager': 0.0, 'timeout_s_aggregator_manager': 0.0, 'broadcast_interval': 1, 'num_gpu_loader_threads': 8, 'vf_loss_coeff': 0.5, 'entropy_coeff': 0.01, '_env_runners_only': False, '_skip_learners': False, 'lr_schedule': None, 'entropy_coeff_schedule': None, 'num_multi_gpu_tower_stacks': 1, 'minibatch_buffer_size': 1, 'replay_proportion': 0.0, 'replay_buffer_num_slots': 0, 'learner_queue_timeout': 300, 'opt_type': 'adam', 'decay': 0.99, 'momentum': 0.0, 'epsilon': 0.1, '_separate_vf_optimizer': False, '_lr_vf': 0.0005, 'num_aggregation_workers': -1, 'max_requests_in_flight_per_aggregator_worker': -1, 'class': <class 'ray.rllib.algorithms.impala.impala.IMPALAConfig'>, 'input': 'sampler', 'policies': {'default_policy': (None, None, None, None)}, 'callbacks': <class 'ray.rllib.callbacks.callbacks.RLlibCallback'>, 'create_env_on_driver': False, 'custom_eval_function': None, 'framework': 'torch'}, 'time_since_restore': 100.09751963615417, 'iterations_since_restore': 10, 'perf': {'cpu_util_percent': np.float64(72.59230769230768), 'ram_util_percent': np.float64(70.2769230769231)}})\n",
      "✓ Metadata saved to: c:\\Users\\Maverick\\Documents\\GitHub\\reinforcement\\checkpoints\\impala_cartpole\\20251018_221334\\training_metadata.json\n",
      "\n",
      "Final Performance:\n",
      "  - Mean Reward: 43.64\n",
      "  - Mean Episode Length: 43.64\n"
     ]
    }
   ],
   "source": [
    "# Save the trained model (Best Practices)\n",
    "from pathlib import Path\n",
    "from datetime import datetime\n",
    "import json\n",
    "\n",
    "# Define checkpoint directory with timestamp\n",
    "repo_root = Path(__file__).parent.parent if '__file__' in locals() else Path.cwd().parent\n",
    "timestamp = datetime.now().strftime(\"%Y%m%d_%H%M%S\")\n",
    "checkpoint_base = repo_root / \"checkpoints\" / \"impala_cartpole\"\n",
    "checkpoint_dir = checkpoint_base / timestamp\n",
    "checkpoint_dir.mkdir(parents=True, exist_ok=True)\n",
    "\n",
    "# Save training metadata\n",
    "metadata = {\n",
    "    \"algorithm\": \"IMPALA\",\n",
    "    \"environment\": \"CartPole-v1\",\n",
    "    \"timestamp\": timestamp,\n",
    "    \"training_iterations\": 10,\n",
    "    \"final_reward_mean\": float(result['env_runners']['episode_return_mean']),\n",
    "    \"final_episode_length\": float(result['env_runners']['episode_len_mean']),\n",
    "    \"final_episodes\": float(result['env_runners']['num_episodes']),\n",
    "    \"hyperparameters\": {\n",
    "        \"gamma\": 0.99,\n",
    "        \"lr\": 0.0005,\n",
    "        \"train_batch_size\": 512,\n",
    "        \"num_env_runners\": 4,\n",
    "        \"num_learners\": 0\n",
    "    }\n",
    "}\n",
    "\n",
    "metadata_path = checkpoint_dir / \"training_metadata.json\"\n",
    "with open(metadata_path, 'w') as f:\n",
    "    json.dump(metadata, indent=2, fp=f)\n",
    "\n",
    "# Save the model checkpoint\n",
    "try:\n",
    "    saved_path = algo.save(checkpoint_dir=str(checkpoint_dir))\n",
    "    print(f\"✓ Model saved successfully to: {saved_path}\")\n",
    "    print(f\"✓ Metadata saved to: {metadata_path}\")\n",
    "    print(f\"\\nFinal Performance:\")\n",
    "    print(f\"  - Mean Reward: {metadata['final_reward_mean']:.2f}\")\n",
    "    print(f\"  - Mean Episode Length: {metadata['final_episode_length']:.2f}\")\n",
    "except Exception as e:\n",
    "    print(f\"✗ Error saving model: {e}\")\n"
   ]
  }
 ],
 "metadata": {
  "kernelspec": {
   "display_name": ".venv",
   "language": "python",
   "name": "python3"
  },
  "language_info": {
   "codemirror_mode": {
    "name": "ipython",
    "version": 3
   },
   "file_extension": ".py",
   "mimetype": "text/x-python",
   "name": "python",
   "nbconvert_exporter": "python",
   "pygments_lexer": "ipython3",
   "version": "3.11.9"
  }
 },
 "nbformat": 4,
 "nbformat_minor": 5
}
